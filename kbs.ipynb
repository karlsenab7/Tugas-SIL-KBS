{
 "cells": [
  {
   "cell_type": "code",
   "execution_count": 17,
   "metadata": {},
   "outputs": [],
   "source": [
    "import pandas\n",
    "import numpy\n",
    "from sklearn import preprocessing\n",
    "from sklearn import tree\n",
    "from sklearn.model_selection import train_test_split\n",
    "from sklearn.tree import DecisionTreeClassifier\n",
    "from sklearn.metrics import accuracy_score, f1_score"
   ]
  },
  {
   "cell_type": "code",
   "execution_count": 18,
   "metadata": {},
   "outputs": [
    {
     "name": "stdout",
     "output_type": "stream",
     "text": [
      "219\n"
     ]
    },
    {
     "name": "stderr",
     "output_type": "stream",
     "text": [
      "/Library/Frameworks/Python.framework/Versions/3.9/lib/python3.9/site-packages/IPython/core/interactiveshell.py:3012: DtypeWarning: Columns (2,6,7,9,10,11,12,13,21,22,23,24,25,26,27,28,29,30,31,38,39,40,41,42,43,44,45,46,47,48,49,50,51,52,53,54,55,56) have mixed types.Specify dtype option on import or set low_memory=False.\n",
      "  has_raised = await self.run_ast_nodes(code_ast.body, cell_name,\n"
     ]
    },
    {
     "data": {
      "text/plain": [
       "219"
      ]
     },
     "execution_count": 18,
     "metadata": {},
     "output_type": "execute_result"
    }
   ],
   "source": [
    "df = pandas.read_csv('speedDating.csv')\n",
    "\n",
    "fields = df.field.str.lower().unique()\n",
    "i = 0\n",
    "for x in fields:\n",
    "    i=i+1\n",
    "print(i)\n",
    "field_choices = []\n",
    "for i in range (219):\n",
    "    field_choices.append(i+1)\n",
    "field_choices[218]"
   ]
  },
  {
   "cell_type": "code",
   "execution_count": 19,
   "metadata": {},
   "outputs": [],
   "source": [
    "df.replace(fields,\n",
    "\t\tfield_choices, inplace=True)\n",
    "\n",
    "df.replace(['male', 'female'],\n",
    "            [0,1], inplace=True)"
   ]
  },
  {
   "cell_type": "code",
   "execution_count": 20,
   "metadata": {},
   "outputs": [
    {
     "name": "stdout",
     "output_type": "stream",
     "text": [
      "Accuracy Score:  100.0 %\n",
      "F1 Score:  100.0 %\n",
      "Accuracy scrore using Gini:  100.0 %\n"
     ]
    }
   ],
   "source": [
    "col_names = df.columns.drop(['match', 'sports', 'tvsports', 'exercise', 'dining', 'museums', 'art', 'hiking',\n",
    "'gaming', 'clubbing', 'reading', 'tv', 'theater', 'movies', 'concerts', 'music', 'shopping', 'yoga', 'interests_correlate',\n",
    "'like', 'guess_prob_liked', 'met', 'expected_happy_with_sd_people', 'expected_num_interested_in_me'\n",
    ",'expected_num_matches', 'attractive', 'sincere', 'intelligence', 'funny', 'ambition', 'attractive_partner', 'sincere_partner',\n",
    "'intelligence_partner', 'funny_partner', 'ambition_partner', 'shared_interests_partner', 'pref_o_attractive', 'pref_o_sincere',\n",
    "'pref_o_intelligence', 'pref_o_funny', 'pref_o_ambitious', 'pref_o_shared_interests', 'attractive_o', 'sinsere_o', 'intelligence_o', 'funny_o'\n",
    ",'ambitous_o', 'decision', 'decision_o'])\n",
    "\n",
    "\n",
    "X_train, X_test, y_train, y_test = train_test_split(\n",
    "\t\tdf[col_names], df['match'], test_size = 0.3, random_state = 100)\n",
    "\n",
    "clf = tree.DecisionTreeClassifier()\n",
    "clf = clf.fit(X_train, y_train)\n",
    "r_predict = clf.predict(X_test)\n",
    "\n",
    "\n",
    "\n",
    "dt_clf_gini = DecisionTreeClassifier(criterion = \"gini\",\n",
    "                                     random_state = 100,\n",
    "                                     max_depth = 5,\n",
    "                                     min_samples_leaf = 5)\n",
    " \n",
    "dt_clf_gini.fit(X_train, y_train)\n",
    "y_pred_gini = dt_clf_gini.predict(X_test)\n",
    " \n",
    "acc = accuracy_score(y_test, r_predict) * 100\n",
    "f1 = f1_score(y_test, r_predict) * 100\n",
    "acc_gini = accuracy_score(y_test, y_pred_gini) * 100\n",
    "print(\"Accuracy Score: \", acc,\"%\")\n",
    "print(\"F1 Score: \", f1,\"%\")\n",
    "print (\"Accuracy scrore using Gini: \",\n",
    "             acc_gini,\"%\" )\n",
    "\n"
   ]
  }
 ],
 "metadata": {
  "kernelspec": {
   "display_name": "Python 3.9.1 64-bit",
   "language": "python",
   "name": "python3"
  },
  "language_info": {
   "codemirror_mode": {
    "name": "ipython",
    "version": 3
   },
   "file_extension": ".py",
   "mimetype": "text/x-python",
   "name": "python",
   "nbconvert_exporter": "python",
   "pygments_lexer": "ipython3",
   "version": "3.9.1"
  },
  "orig_nbformat": 4,
  "vscode": {
   "interpreter": {
    "hash": "aee8b7b246df8f9039afb4144a1f6fd8d2ca17a180786b69acc140d282b71a49"
   }
  }
 },
 "nbformat": 4,
 "nbformat_minor": 2
}
