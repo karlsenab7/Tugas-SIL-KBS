{
 "cells": [
  {
   "cell_type": "code",
   "execution_count": 91,
   "metadata": {},
   "outputs": [],
   "source": [
    "import pandas\n",
    "from sklearn import tree\n",
    "from sklearn.model_selection import train_test_split\n",
    "from sklearn.tree import DecisionTreeClassifier\n",
    "from sklearn.metrics import accuracy_score, f1_score"
   ]
  },
  {
   "cell_type": "code",
   "execution_count": 92,
   "metadata": {},
   "outputs": [
    {
     "data": {
      "text/plain": [
       "219"
      ]
     },
     "execution_count": 92,
     "metadata": {},
     "output_type": "execute_result"
    }
   ],
   "source": [
    "df = pandas.read_csv('speedDating.csv', low_memory=False)\n",
    "\n",
    "fields = df.field.str.lower().unique()\n",
    "field_choices = []\n",
    "for i in range (219):\n",
    "    field_choices.append(i+1)\n",
    "field_choices[218]"
   ]
  },
  {
   "cell_type": "code",
   "execution_count": 93,
   "metadata": {},
   "outputs": [],
   "source": [
    "df.replace(fields,\n",
    "\t\tfield_choices, inplace=True)\n",
    "\n",
    "df.replace(['male', 'female'],\n",
    "            [0,1], inplace=True)"
   ]
  },
  {
   "cell_type": "code",
   "execution_count": 94,
   "metadata": {},
   "outputs": [
    {
     "name": "stdout",
     "output_type": "stream",
     "text": [
      "Accuracy Score:  100.0 %\n",
      "F1 Score:  100.0 %\n",
      "Accuracy scrore using Gini:  100.0 %\n"
     ]
    }
   ],
   "source": [
    "col_names = df.columns.drop(['match'])\n",
    "\n",
    "X_train, X_test, y_train, y_test = train_test_split(\n",
    "\t\tdf[col_names], df['match'], test_size = 0.3, random_state = 100)\n",
    "\n",
    "clf = tree.DecisionTreeClassifier()\n",
    "clf = clf.fit(X_train, y_train)\n",
    "r_predict = clf.predict(X_test)\n",
    "\n",
    "clf_gini = DecisionTreeClassifier(criterion = \"gini\",\n",
    "                                     random_state = 100,\n",
    "                                     max_depth = 5,\n",
    "                                     min_samples_leaf = 5)\n",
    " \n",
    "clf_gini.fit(X_train, y_train)\n",
    "y_pred_gini = clf_gini.predict(X_test)\n",
    " \n",
    "acc = accuracy_score(y_test, r_predict) * 100\n",
    "f1 = f1_score(y_test, r_predict) * 100\n",
    "acc_gini = accuracy_score(y_test, y_pred_gini) * 100\n",
    "print(\"Accuracy Score: \", acc,\"%\")\n",
    "print(\"F1 Score: \", f1,\"%\")\n",
    "print (\"Accuracy scrore using Gini: \",\n",
    "             acc_gini,\"%\" )\n",
    "\n"
   ]
  }
 ],
 "metadata": {
  "kernelspec": {
   "display_name": "Python 3.10.4 64-bit",
   "language": "python",
   "name": "python3"
  },
  "language_info": {
   "codemirror_mode": {
    "name": "ipython",
    "version": 3
   },
   "file_extension": ".py",
   "mimetype": "text/x-python",
   "name": "python",
   "nbconvert_exporter": "python",
   "pygments_lexer": "ipython3",
   "version": "3.10.4"
  },
  "orig_nbformat": 4,
  "vscode": {
   "interpreter": {
    "hash": "369f2c481f4da34e4445cda3fffd2e751bd1c4d706f27375911949ba6bb62e1c"
   }
  }
 },
 "nbformat": 4,
 "nbformat_minor": 2
}
